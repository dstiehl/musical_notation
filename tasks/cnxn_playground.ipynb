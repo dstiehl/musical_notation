{
 "cells": [
  {
   "cell_type": "code",
   "execution_count": 8,
   "metadata": {
    "collapsed": true,
    "ExecuteTime": {
     "end_time": "2023-05-21T19:45:09.516427Z",
     "start_time": "2023-05-21T19:45:09.510530Z"
    }
   },
   "outputs": [],
   "source": [
    "import pandas\n",
    "import yaml\n",
    "import spotipy\n",
    "from spotipy.oauth2 import SpotifyOAuth\n",
    "\n",
    "from credentialling import get_credentials"
   ]
  },
  {
   "cell_type": "code",
   "execution_count": 12,
   "outputs": [],
   "source": [
    "creds = get_credentials()\n",
    "# Set your credentials and redirect URI\n",
    "client_id = creds['client_id']\n",
    "client_secret = creds['client_secret']\n",
    "redirect_uri = creds['redirect_uri']"
   ],
   "metadata": {
    "collapsed": false,
    "ExecuteTime": {
     "end_time": "2023-05-21T19:48:57.967554Z",
     "start_time": "2023-05-21T19:48:57.960834Z"
    }
   }
  },
  {
   "cell_type": "code",
   "execution_count": 13,
   "outputs": [
    {
     "name": "stdout",
     "output_type": "stream",
     "text": [
      "Please visit this URL to authorize the application: https://accounts.spotify.com/authorize?client_id=e8c1ce8369c14fd4a6a97a8cbf7230d9&response_type=code&redirect_uri=http%3A%2F%2Flocalhost%3A8888%2Fcallback&scope=your_scope\n"
     ]
    }
   ],
   "source": [
    "# Create a SpotifyOAuth object\n",
    "sp_oauth = SpotifyOAuth(client_id=client_id, client_secret=client_secret, redirect_uri=redirect_uri, scope='your_scope')\n",
    "\n",
    "# Get the authorization URL\n",
    "auth_url = sp_oauth.get_authorize_url()\n",
    "\n",
    "# Print the URL and open it in a browser\n",
    "print(\"Please visit this URL to authorize the application:\", auth_url)"
   ],
   "metadata": {
    "collapsed": false,
    "ExecuteTime": {
     "end_time": "2023-05-21T19:48:59.588341Z",
     "start_time": "2023-05-21T19:48:59.569556Z"
    }
   }
  },
  {
   "cell_type": "code",
   "execution_count": 14,
   "outputs": [
    {
     "name": "stderr",
     "output_type": "stream",
     "text": [
      "/var/folders/nv/fn7_282d1b3_8tnfl_yns0_00000gn/T/ipykernel_71043/2410475253.py:8: DeprecationWarning: You're using 'as_dict = True'.get_access_token will return the token string directly in future versions. Please adjust your code accordingly, or use get_cached_token instead.\n",
      "  token_info = sp_oauth.get_access_token(code)\n"
     ]
    }
   ],
   "source": [
    "# After authorization, retrieve the URL from the redirected page\n",
    "redirected_uri = input(\"Enter the redirected URL: \")\n",
    "\n",
    "# Get the authorization token\n",
    "code = sp_oauth.parse_response_code(redirected_uri)\n",
    "\n",
    "# Obtain the access token\n",
    "token_info = sp_oauth.get_access_token(code)\n",
    "\n",
    "# Create a Spotipy client\n",
    "sp = spotipy.Spotify(auth=token_info['access_token'])"
   ],
   "metadata": {
    "collapsed": false,
    "ExecuteTime": {
     "end_time": "2023-05-21T19:53:26.406783Z",
     "start_time": "2023-05-21T19:53:24.523566Z"
    }
   }
  },
  {
   "cell_type": "code",
   "execution_count": 16,
   "outputs": [],
   "source": [
    "results = sp.search(q='album:White Ladder artist:David Gray', type='album', limit=1)"
   ],
   "metadata": {
    "collapsed": false,
    "ExecuteTime": {
     "end_time": "2023-05-21T19:55:24.677742Z",
     "start_time": "2023-05-21T19:55:24.310660Z"
    }
   }
  },
  {
   "cell_type": "code",
   "execution_count": 35,
   "outputs": [
    {
     "data": {
      "text/plain": "False"
     },
     "execution_count": 35,
     "metadata": {},
     "output_type": "execute_result"
    }
   ],
   "source": [
    "hasattr(results['albums']['items'][0]['artists'][0], 'href')"
   ],
   "metadata": {
    "collapsed": false,
    "ExecuteTime": {
     "end_time": "2023-05-21T19:59:02.258364Z",
     "start_time": "2023-05-21T19:59:02.248405Z"
    }
   }
  },
  {
   "cell_type": "code",
   "execution_count": 36,
   "outputs": [
    {
     "data": {
      "text/plain": "{'albums': {'href': 'https://api.spotify.com/v1/search?query=album%3AWhite+Ladder+artist%3ADavid+Gray&type=album&offset=0&limit=1',\n  'items': [{'album_type': 'album',\n    'artists': [{'external_urls': {'spotify': 'https://open.spotify.com/artist/7J2lZBANizgPNfUzux31PV'},\n      'href': 'https://api.spotify.com/v1/artists/7J2lZBANizgPNfUzux31PV',\n      'id': '7J2lZBANizgPNfUzux31PV',\n      'name': 'David Gray',\n      'type': 'artist',\n      'uri': 'spotify:artist:7J2lZBANizgPNfUzux31PV'}],\n    'available_markets': ['AD',\n     'AE',\n     'AG',\n     'AL',\n     'AM',\n     'AO',\n     'AR',\n     'AT',\n     'AU',\n     'AZ',\n     'BA',\n     'BB',\n     'BD',\n     'BE',\n     'BF',\n     'BG',\n     'BH',\n     'BI',\n     'BJ',\n     'BN',\n     'BO',\n     'BR',\n     'BS',\n     'BT',\n     'BW',\n     'BY',\n     'BZ',\n     'CA',\n     'CD',\n     'CG',\n     'CH',\n     'CI',\n     'CL',\n     'CM',\n     'CO',\n     'CR',\n     'CV',\n     'CW',\n     'CY',\n     'CZ',\n     'DE',\n     'DJ',\n     'DK',\n     'DM',\n     'DO',\n     'DZ',\n     'EC',\n     'EE',\n     'EG',\n     'ES',\n     'ET',\n     'FI',\n     'FJ',\n     'FM',\n     'FR',\n     'GA',\n     'GB',\n     'GD',\n     'GE',\n     'GH',\n     'GM',\n     'GN',\n     'GQ',\n     'GR',\n     'GT',\n     'GW',\n     'GY',\n     'HK',\n     'HN',\n     'HR',\n     'HT',\n     'HU',\n     'ID',\n     'IE',\n     'IL',\n     'IN',\n     'IQ',\n     'IS',\n     'IT',\n     'JM',\n     'JO',\n     'JP',\n     'KE',\n     'KG',\n     'KH',\n     'KI',\n     'KM',\n     'KN',\n     'KR',\n     'KW',\n     'KZ',\n     'LA',\n     'LB',\n     'LC',\n     'LI',\n     'LK',\n     'LR',\n     'LS',\n     'LT',\n     'LU',\n     'LV',\n     'LY',\n     'MA',\n     'MC',\n     'MD',\n     'ME',\n     'MG',\n     'MH',\n     'MK',\n     'ML',\n     'MN',\n     'MO',\n     'MR',\n     'MT',\n     'MU',\n     'MV',\n     'MW',\n     'MX',\n     'MY',\n     'MZ',\n     'NA',\n     'NE',\n     'NG',\n     'NI',\n     'NL',\n     'NO',\n     'NP',\n     'NR',\n     'NZ',\n     'OM',\n     'PA',\n     'PE',\n     'PG',\n     'PH',\n     'PK',\n     'PL',\n     'PS',\n     'PT',\n     'PW',\n     'PY',\n     'QA',\n     'RO',\n     'RS',\n     'RW',\n     'SA',\n     'SB',\n     'SC',\n     'SE',\n     'SG',\n     'SI',\n     'SK',\n     'SL',\n     'SM',\n     'SN',\n     'SR',\n     'ST',\n     'SV',\n     'SZ',\n     'TD',\n     'TG',\n     'TH',\n     'TJ',\n     'TL',\n     'TN',\n     'TO',\n     'TR',\n     'TT',\n     'TV',\n     'TW',\n     'TZ',\n     'UA',\n     'UG',\n     'US',\n     'UY',\n     'UZ',\n     'VC',\n     'VE',\n     'VN',\n     'VU',\n     'WS',\n     'XK',\n     'ZA',\n     'ZM',\n     'ZW'],\n    'external_urls': {'spotify': 'https://open.spotify.com/album/27h98zEMf4R8Q25uOkumGe'},\n    'href': 'https://api.spotify.com/v1/albums/27h98zEMf4R8Q25uOkumGe',\n    'id': '27h98zEMf4R8Q25uOkumGe',\n    'images': [{'height': 640,\n      'url': 'https://i.scdn.co/image/ab67616d0000b273d53ec2e07184f28ac9ed2a99',\n      'width': 640},\n     {'height': 300,\n      'url': 'https://i.scdn.co/image/ab67616d00001e02d53ec2e07184f28ac9ed2a99',\n      'width': 300},\n     {'height': 64,\n      'url': 'https://i.scdn.co/image/ab67616d00004851d53ec2e07184f28ac9ed2a99',\n      'width': 64}],\n    'name': 'White Ladder',\n    'release_date': '1998-11-02',\n    'release_date_precision': 'day',\n    'total_tracks': 10,\n    'type': 'album',\n    'uri': 'spotify:album:27h98zEMf4R8Q25uOkumGe'}],\n  'limit': 1,\n  'next': 'https://api.spotify.com/v1/search?query=album%3AWhite+Ladder+artist%3ADavid+Gray&type=album&offset=1&limit=1',\n  'offset': 0,\n  'previous': None,\n  'total': 2}}"
     },
     "execution_count": 36,
     "metadata": {},
     "output_type": "execute_result"
    }
   ],
   "source": [
    "results"
   ],
   "metadata": {
    "collapsed": false,
    "ExecuteTime": {
     "end_time": "2023-05-21T19:59:33.304204Z",
     "start_time": "2023-05-21T19:59:33.294696Z"
    }
   }
  },
  {
   "cell_type": "code",
   "execution_count": null,
   "outputs": [],
   "source": [],
   "metadata": {
    "collapsed": false
   }
  }
 ],
 "metadata": {
  "kernelspec": {
   "display_name": "Python 3",
   "language": "python",
   "name": "python3"
  },
  "language_info": {
   "codemirror_mode": {
    "name": "ipython",
    "version": 2
   },
   "file_extension": ".py",
   "mimetype": "text/x-python",
   "name": "python",
   "nbconvert_exporter": "python",
   "pygments_lexer": "ipython2",
   "version": "2.7.6"
  }
 },
 "nbformat": 4,
 "nbformat_minor": 0
}
